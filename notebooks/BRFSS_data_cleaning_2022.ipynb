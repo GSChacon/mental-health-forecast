{
 "cells": [
  {
   "cell_type": "markdown",
   "metadata": {},
   "source": [
    "# Imports"
   ]
  },
  {
   "cell_type": "code",
   "execution_count": 1,
   "metadata": {},
   "outputs": [],
   "source": [
    "import numpy as np\n",
    "import pandas as pd"
   ]
  },
  {
   "cell_type": "markdown",
   "metadata": {},
   "source": [
    "# Limpeza dos dados"
   ]
  },
  {
   "cell_type": "code",
   "execution_count": 2,
   "metadata": {},
   "outputs": [],
   "source": [
    "# Dataset disponível em: https://www.cdc.gov/brfss/annual_data/annual_2022.html\n",
    "# 445.132 linhas\n",
    "df_raw_2022 = pd.read_sas(\"../raw_data/brfss_2022.XPT\")\n",
    "\n",
    "# Target: ADDEPEV3: (Ever told) (you had) a depressive disorder (including depression, major depression, dysthymia, or minor depression)?"
   ]
  },
  {
   "cell_type": "code",
   "execution_count": 3,
   "metadata": {},
   "outputs": [
    {
     "name": "stderr",
     "output_type": "stream",
     "text": [
      "/home/chacon/.pyenv/versions/3.8.12/envs/lewagon/lib/python3.8/site-packages/pandas/core/indexing.py:1783: SettingWithCopyWarning: \n",
      "A value is trying to be set on a copy of a slice from a DataFrame.\n",
      "Try using .loc[row_indexer,col_indexer] = value instead\n",
      "\n",
      "See the caveats in the documentation: https://pandas.pydata.org/pandas-docs/stable/user_guide/indexing.html#returning-a-view-versus-a-copy\n",
      "  self.obj[item_labels[indexer[info_axis]]] = value\n"
     ]
    }
   ],
   "source": [
    "# Selecionando colunas e fazendo o parse delas\n",
    "\n",
    "df_selected = df_raw_2022[[\"ADDEPEV3\", \"_SEX\", \"_AGE80\", \"_RFHLTH\", \"_HLTHPLN\", \"MEDCOST1\", \"CHECKUP1\", \"_TOTINDA\", \n",
    "             \"SLEPTIM1\", \"_MICHD\", \"_LTASTH1\", \"MARITAL\", \"EDUCA\", \"RENTHOM1\", \"EMPLOY1\", \"CHILDREN\", \"_BMI5CAT\",\n",
    "             \"DECIDE\", \"DIFFALON\", \"_SMOKER3\", \"ALCDAY4\", \"LSATISFY\", \"EMTSUPRT\", \"SDHISOLT\", \"SDHEMPLY\",\n",
    "             \"SDHFOOD1\", \"SDHBILLS\", \"SDHUTILS\", \"SDHTRNSP\", \"SDHSTRE1\", \"_RACEGR4\"]]\n",
    "\n",
    "def parse_target(value):\n",
    "    if value == 2.0:\n",
    "        res = 0\n",
    "    elif value == 1.0:\n",
    "        res = 1\n",
    "    else:\n",
    "        res = np.nan\n",
    "    return res\n",
    "\n",
    "def parse_alcday(value):\n",
    "    if value == 888.0:\n",
    "        res = 0\n",
    "    elif (value == 999.0 or value == 777.0):\n",
    "        res = np.nan\n",
    "    elif (value >= 201.0 and value <= 299.0):\n",
    "        res = value - 200\n",
    "    elif (value >= 101.0 and value <= 199.0):\n",
    "        res = 4*(value-100)\n",
    "    else:\n",
    "        res = np.nan\n",
    "        \n",
    "    if res > 30:\n",
    "        res = np.nan\n",
    "    return res\n",
    "\n",
    "df_selected.loc[:,\"ADDEPEV3\"] = df_selected.loc[:,\"ADDEPEV3\"].apply(parse_target)\n",
    "df_selected.loc[:,\"_RFHLTH\"] = df_selected.loc[:,\"_RFHLTH\"].apply(lambda x: np.nan if x == 9 else x)\n",
    "df_selected.loc[:,\"_HLTHPLN\"] = df_selected.loc[:,\"_HLTHPLN\"].apply(lambda x: np.nan if x == 9 else x)\n",
    "df_selected.loc[:,\"MEDCOST1\"] = df_selected.loc[:,\"MEDCOST1\"].apply(lambda x: np.nan if x == 9.0 else x)\n",
    "df_selected.loc[:,\"CHECKUP1\"] = df_selected.loc[:,\"CHECKUP1\"].apply(lambda x: np.nan if x == 9.0 else x)\n",
    "df_selected.loc[:,\"_TOTINDA\"] = df_selected.loc[:,\"_TOTINDA\"].apply(lambda x: np.nan if x == 9 else x)\n",
    "df_selected.loc[:,\"MARITAL\"] = df_selected.loc[:,\"MARITAL\"].apply(lambda x: np.nan if x == 9 else x)\n",
    "df_selected.loc[:,\"EDUCA\"] = df_selected.loc[:,\"EDUCA\"].apply(lambda x: np.nan if x == 9 else x)\n",
    "df_selected.loc[:,\"RENTHOM1\"] = df_selected.loc[:,\"RENTHOM1\"].apply(lambda x: np.nan if x == 9 else x)\n",
    "df_selected.loc[:,\"EMPLOY1\"] = df_selected.loc[:,\"EMPLOY1\"].apply(lambda x: np.nan if x == 9 else x)\n",
    "df_selected.loc[:,\"CHILDREN\"] = df_selected.loc[:,\"CHILDREN\"].apply(lambda x: np.nan if x == 99 else (0 if x == 88 else x))\n",
    "df_selected.loc[:,\"DECIDE\"] = df_selected.loc[:,\"DECIDE\"].apply(lambda x: np.nan if x == 9 else x)\n",
    "df_selected.loc[:,\"DIFFALON\"] = df_selected.loc[:,\"DIFFALON\"].apply(lambda x: np.nan if x == 9 else x)\n",
    "df_selected.loc[:,\"_SMOKER3\"] = df_selected.loc[:,\"_SMOKER3\"].apply(lambda x: np.nan if x == 9 else x)\n",
    "df_selected.loc[:,\"_LTASTH1\"] = df_selected.loc[:,\"_LTASTH1\"].apply(lambda x: np.nan if x == 9 else x)\n",
    "\n",
    "# Colunas exclusivas ao dataset de 2022\n",
    "df_selected.loc[:,\"SLEPTIM1\"] = df_selected.loc[:,\"SLEPTIM1\"].apply(lambda x: np.nan if (x == 99 or x == 77) else x)\n",
    "df_selected.loc[:,\"ALCDAY4\"] = df_selected.loc[:,\"ALCDAY4\"].apply(parse_alcday)\n",
    "df_selected.loc[:,\"LSATISFY\"] = df_selected.loc[:,\"LSATISFY\"].apply(lambda x: np.nan if x == 9 else x)\n",
    "df_selected.loc[:,\"EMTSUPRT\"] = df_selected.loc[:,\"EMTSUPRT\"].apply(lambda x: np.nan if x == 9 else x)\n",
    "df_selected.loc[:,\"SDHISOLT\"] = df_selected.loc[:,\"SDHISOLT\"].apply(lambda x: np.nan if x == 9 else x)\n",
    "df_selected.loc[:,\"SDHEMPLY\"] = df_selected.loc[:,\"SDHEMPLY\"].apply(lambda x: np.nan if x == 9 else x)\n",
    "df_selected.loc[:,\"SDHFOOD1\"] = df_selected.loc[:,\"SDHFOOD1\"].apply(lambda x: np.nan if x == 9 else x)\n",
    "df_selected.loc[:,\"SDHBILLS\"] = df_selected.loc[:,\"SDHBILLS\"].apply(lambda x: np.nan if x == 9 else x)\n",
    "df_selected.loc[:,\"SDHUTILS\"] = df_selected.loc[:,\"SDHUTILS\"].apply(lambda x: np.nan if x == 9 else x)\n",
    "df_selected.loc[:,\"SDHTRNSP\"] = df_selected.loc[:,\"SDHTRNSP\"].apply(lambda x: np.nan if x == 9 else x)\n",
    "df_selected.loc[:,\"SDHSTRE1\"] = df_selected.loc[:,\"SDHSTRE1\"].apply(lambda x: np.nan if x == 9 else x)\n",
    "df_selected.loc[:,\"_RACEGR4\"] = df_selected.loc[:,\"_RACEGR4\"].apply(lambda x: np.nan if x == 9 else x)\n",
    "\n",
    "\n",
    "# Dropando valores nulos\n",
    "df_filtered = df_selected.dropna()"
   ]
  },
  {
   "cell_type": "code",
   "execution_count": 4,
   "metadata": {},
   "outputs": [],
   "source": [
    "df_filtered.to_csv(\"../cleaned_data/brfss_filtered_2022_full.csv\")"
   ]
  },
  {
   "cell_type": "code",
   "execution_count": null,
   "metadata": {},
   "outputs": [],
   "source": []
  }
 ],
 "metadata": {
  "kernelspec": {
   "display_name": "Python 3 (ipykernel)",
   "language": "python",
   "name": "python3"
  },
  "language_info": {
   "codemirror_mode": {
    "name": "ipython",
    "version": 3
   },
   "file_extension": ".py",
   "mimetype": "text/x-python",
   "name": "python",
   "nbconvert_exporter": "python",
   "pygments_lexer": "ipython3",
   "version": "3.8.12"
  },
  "toc": {
   "base_numbering": 1,
   "nav_menu": {},
   "number_sections": true,
   "sideBar": true,
   "skip_h1_title": false,
   "title_cell": "Table of Contents",
   "title_sidebar": "Contents",
   "toc_cell": false,
   "toc_position": {},
   "toc_section_display": true,
   "toc_window_display": false
  }
 },
 "nbformat": 4,
 "nbformat_minor": 2
}
